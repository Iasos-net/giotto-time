{
 "cells": [
  {
   "cell_type": "code",
   "execution_count": 1,
   "metadata": {
    "ExecuteTime": {
     "end_time": "2020-03-22T19:35:56.560217Z",
     "start_time": "2020-03-22T19:35:53.537765Z"
    }
   },
   "outputs": [],
   "source": [
    "import pandas as pd\n",
    "import numpy as np\n",
    "import matplotlib.pyplot as plt\n",
    "from statsmodels.tsa.stattools import pacf, acf, pacf_burg\n",
    "from statsmodels.regression.linear_model import yule_walker"
   ]
  },
  {
   "cell_type": "code",
   "execution_count": 3,
   "metadata": {
    "ExecuteTime": {
     "end_time": "2020-03-22T19:36:14.974230Z",
     "start_time": "2020-03-22T19:36:14.737576Z"
    }
   },
   "outputs": [
    {
     "ename": "NameError",
     "evalue": "name 'TimeSeriesPreparation' is not defined",
     "output_type": "error",
     "traceback": [
      "\u001b[0;31m---------------------------------------------------------------------------\u001b[0m",
      "\u001b[0;31mNameError\u001b[0m                                 Traceback (most recent call last)",
      "\u001b[0;32m<ipython-input-3-3056cf41b5c7>\u001b[0m in \u001b[0;36m<module>\u001b[0;34m\u001b[0m\n\u001b[1;32m      2\u001b[0m \u001b[0mdf_close\u001b[0m \u001b[0;34m=\u001b[0m \u001b[0mdf_sp\u001b[0m\u001b[0;34m.\u001b[0m\u001b[0mset_index\u001b[0m\u001b[0;34m(\u001b[0m\u001b[0;34m'Date'\u001b[0m\u001b[0;34m)\u001b[0m\u001b[0;34m[\u001b[0m\u001b[0;34m'Close'\u001b[0m\u001b[0;34m]\u001b[0m\u001b[0;34m\u001b[0m\u001b[0;34m\u001b[0m\u001b[0m\n\u001b[1;32m      3\u001b[0m \u001b[0mdf_close\u001b[0m\u001b[0;34m.\u001b[0m\u001b[0mindex\u001b[0m \u001b[0;34m=\u001b[0m \u001b[0mpd\u001b[0m\u001b[0;34m.\u001b[0m\u001b[0mto_datetime\u001b[0m\u001b[0;34m(\u001b[0m\u001b[0mdf_close\u001b[0m\u001b[0;34m.\u001b[0m\u001b[0mindex\u001b[0m\u001b[0;34m)\u001b[0m\u001b[0;34m\u001b[0m\u001b[0;34m\u001b[0m\u001b[0m\n\u001b[0;32m----> 4\u001b[0;31m \u001b[0mtime_series_preparation\u001b[0m \u001b[0;34m=\u001b[0m \u001b[0mTimeSeriesPreparation\u001b[0m\u001b[0;34m(\u001b[0m\u001b[0;34m)\u001b[0m\u001b[0;34m\u001b[0m\u001b[0;34m\u001b[0m\u001b[0m\n\u001b[0m\u001b[1;32m      5\u001b[0m \u001b[0mperiod_index_time_series\u001b[0m \u001b[0;34m=\u001b[0m \u001b[0mtime_series_preparation\u001b[0m\u001b[0;34m.\u001b[0m\u001b[0mtransform\u001b[0m\u001b[0;34m(\u001b[0m\u001b[0mdf_close\u001b[0m\u001b[0;34m)\u001b[0m\u001b[0;34m\u001b[0m\u001b[0;34m\u001b[0m\u001b[0m\n\u001b[1;32m      6\u001b[0m \u001b[0mperiod_index_time_series\u001b[0m\u001b[0;34m.\u001b[0m\u001b[0mplot\u001b[0m\u001b[0;34m(\u001b[0m\u001b[0mfigsize\u001b[0m\u001b[0;34m=\u001b[0m\u001b[0;34m(\u001b[0m\u001b[0;36m20\u001b[0m\u001b[0;34m,\u001b[0m \u001b[0;36m5\u001b[0m\u001b[0;34m)\u001b[0m\u001b[0;34m)\u001b[0m\u001b[0;34m\u001b[0m\u001b[0;34m\u001b[0m\u001b[0m\n",
      "\u001b[0;31mNameError\u001b[0m: name 'TimeSeriesPreparation' is not defined"
     ]
    }
   ],
   "source": [
    "df_sp = pd.read_csv('data/^GSPC.csv')\n",
    "df_close = df_sp.set_index('Date')['Close']\n",
    "df_close.index = pd.to_datetime(df_close.index)\n",
    "time_series_preparation = TimeSeriesPreparation()\n",
    "period_index_time_series = time_series_preparation.transform(df_close)\n",
    "period_index_time_series.plot(figsize=(20, 5))\n",
    "plt.show()"
   ]
  },
  {
   "cell_type": "code",
   "execution_count": 28,
   "metadata": {
    "ExecuteTime": {
     "end_time": "2020-03-19T22:55:52.916280Z",
     "start_time": "2020-03-19T22:55:52.908355Z"
    }
   },
   "outputs": [
    {
     "data": {
      "text/plain": [
       "(array([ 1.05376344,  0.04516129, -0.27956989]), 1.1596563574540144)"
      ]
     },
     "execution_count": 28,
     "metadata": {},
     "output_type": "execute_result"
    }
   ],
   "source": [
    "yule_walker(np.array([1, 2, 3, 4]), 3)"
   ]
  },
  {
   "cell_type": "code",
   "execution_count": 61,
   "metadata": {
    "ExecuteTime": {
     "end_time": "2020-03-20T18:15:33.892969Z",
     "start_time": "2020-03-20T18:15:33.842660Z"
    }
   },
   "outputs": [
    {
     "data": {
      "text/plain": [
       "(array([ 1.        ,  0.45454545, -0.86153846, -1.        ]),\n",
       " array([1.25      , 0.72727273, 0.27692308, 0.        ]))"
      ]
     },
     "execution_count": 61,
     "metadata": {},
     "output_type": "execute_result"
    }
   ],
   "source": [
    "pacf_burg(np.array([1, 2, 3, 4]), 3)"
   ]
  },
  {
   "cell_type": "code",
   "execution_count": 110,
   "metadata": {
    "ExecuteTime": {
     "end_time": "2020-03-23T13:57:13.351954Z",
     "start_time": "2020-03-23T13:57:13.343250Z"
    }
   },
   "outputs": [
    {
     "data": {
      "text/plain": [
       "array([ 1.        ,  0.99678578,  0.21585029, -0.07415431, -0.14261948,\n",
       "        0.0763923 , -0.02748249,  0.04997383, -0.17551864,  0.1915448 ,\n",
       "       -0.16076186])"
      ]
     },
     "execution_count": 110,
     "metadata": {},
     "output_type": "execute_result"
    }
   ],
   "source": [
    "pacf(df_close, 10, method='ols-inefficient')"
   ]
  },
  {
   "cell_type": "code",
   "execution_count": 112,
   "metadata": {
    "ExecuteTime": {
     "end_time": "2020-03-23T13:57:24.187069Z",
     "start_time": "2020-03-23T13:57:24.177236Z"
    }
   },
   "outputs": [
    {
     "data": {
      "text/plain": [
       "array([ 1.        ,  0.99766614,  0.24265286, -0.05989888, -0.15223231,\n",
       "        0.03884147, -0.01984205,  0.02960499, -0.14170889,  0.15407944,\n",
       "       -0.09663423])"
      ]
     },
     "execution_count": 112,
     "metadata": {},
     "output_type": "execute_result"
    }
   ],
   "source": [
    "pacf(df_close, 10, method='yw')"
   ]
  },
  {
   "cell_type": "code",
   "execution_count": 88,
   "metadata": {
    "ExecuteTime": {
     "end_time": "2020-03-23T13:00:08.091747Z",
     "start_time": "2020-03-23T13:00:08.079354Z"
    }
   },
   "outputs": [
    {
     "data": {
      "text/plain": [
       "array([ 1.        ,  0.58605525,  0.20859544, -0.06791727, -0.02257912,\n",
       "       -0.12753209, -0.17429864, -0.31422696, -0.2072008 , -0.20595298,\n",
       "       -0.13053124])"
      ]
     },
     "execution_count": 88,
     "metadata": {},
     "output_type": "execute_result"
    }
   ],
   "source": [
    "def autocorr(x, max_lags=None):\n",
    "    n = len(x)\n",
    "    if max_lags is None or max_lags > n:\n",
    "        max_lags = n    \n",
    "    x = (x - np.mean(x)) / (np.std(x) * np.sqrt(n))\n",
    "    result = np.correlate(x, x, mode='full')[-n:-n + max_lags + 1]\n",
    "\n",
    "    return result\n",
    "\n",
    "autocorr(df_close.iloc[:15], max_lags=10)"
   ]
  },
  {
   "cell_type": "code",
   "execution_count": 96,
   "metadata": {
    "ExecuteTime": {
     "end_time": "2020-03-23T13:11:49.723008Z",
     "start_time": "2020-03-23T13:11:49.715261Z"
    }
   },
   "outputs": [
    {
     "data": {
      "text/plain": [
       "array([ 1.        ,  0.74853224,  0.50835712,  0.39037324,  0.3113311 ,\n",
       "        0.17684978,  0.0815524 , -0.03562858, -0.08027753, -0.11105834,\n",
       "       -0.1508139 ])"
      ]
     },
     "execution_count": 96,
     "metadata": {},
     "output_type": "execute_result"
    }
   ],
   "source": [
    "acf(df_close.iloc[:100], nlags=10)"
   ]
  },
  {
   "cell_type": "code",
   "execution_count": 94,
   "metadata": {
    "ExecuteTime": {
     "end_time": "2020-03-23T13:11:14.627674Z",
     "start_time": "2020-03-23T13:11:14.619453Z"
    }
   },
   "outputs": [
    {
     "data": {
      "text/plain": [
       "array([nan, nan, nan, nan])"
      ]
     },
     "execution_count": 94,
     "metadata": {},
     "output_type": "execute_result"
    }
   ],
   "source": [
    "acf(np.array([1, 1, 1, 1]), nlags=4)"
   ]
  },
  {
   "cell_type": "code",
   "execution_count": 39,
   "metadata": {
    "ExecuteTime": {
     "end_time": "2020-03-20T16:41:15.309269Z",
     "start_time": "2020-03-20T16:41:14.861980Z"
    }
   },
   "outputs": [],
   "source": [
    "df_sp = pd.read_csv('data/^GSPC.csv')\n",
    "df_close = df_sp.set_index('Date')['Close']"
   ]
  },
  {
   "cell_type": "code",
   "execution_count": 59,
   "metadata": {
    "ExecuteTime": {
     "end_time": "2020-03-20T16:45:55.960454Z",
     "start_time": "2020-03-20T16:45:55.931758Z"
    }
   },
   "outputs": [],
   "source": [
    "a, b = pacf(np.squeeze(df_close.values), alpha=0.05)"
   ]
  },
  {
   "cell_type": "code",
   "execution_count": 60,
   "metadata": {
    "ExecuteTime": {
     "end_time": "2020-03-20T16:45:56.702648Z",
     "start_time": "2020-03-20T16:45:56.695649Z"
    }
   },
   "outputs": [
    {
     "data": {
      "text/plain": [
       "0.05523765407649571"
      ]
     },
     "execution_count": 60,
     "metadata": {},
     "output_type": "execute_result"
    }
   ],
   "source": [
    "(b[3][1] - b[3][0])/2"
   ]
  },
  {
   "cell_type": "code",
   "execution_count": null,
   "metadata": {},
   "outputs": [],
   "source": []
  }
 ],
 "metadata": {
  "kernelspec": {
   "display_name": "Python 3",
   "language": "python",
   "name": "python3"
  },
  "language_info": {
   "codemirror_mode": {
    "name": "ipython",
    "version": 3
   },
   "file_extension": ".py",
   "mimetype": "text/x-python",
   "name": "python",
   "nbconvert_exporter": "python",
   "pygments_lexer": "ipython3",
   "version": "3.7.1"
  }
 },
 "nbformat": 4,
 "nbformat_minor": 2
}
