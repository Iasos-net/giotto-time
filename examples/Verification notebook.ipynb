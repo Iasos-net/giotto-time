{
 "cells": [
  {
   "cell_type": "code",
   "execution_count": 1,
   "metadata": {
    "ExecuteTime": {
     "end_time": "2020-03-22T19:35:56.560217Z",
     "start_time": "2020-03-22T19:35:53.537765Z"
    }
   },
   "outputs": [],
   "source": [
    "import pandas as pd\n",
    "import numpy as np\n",
    "import matplotlib.pyplot as plt\n",
    "from statsmodels.tsa.stattools import pacf, acf, pacf_burg\n",
    "from statsmodels.regression.linear_model import yule_walker"
   ]
  },
  {
   "cell_type": "code",
   "execution_count": 3,
   "metadata": {
    "ExecuteTime": {
     "end_time": "2020-03-22T19:36:14.974230Z",
     "start_time": "2020-03-22T19:36:14.737576Z"
    }
   },
   "outputs": [
    {
     "ename": "NameError",
     "evalue": "name 'TimeSeriesPreparation' is not defined",
     "output_type": "error",
     "traceback": [
      "\u001b[0;31m---------------------------------------------------------------------------\u001b[0m",
      "\u001b[0;31mNameError\u001b[0m                                 Traceback (most recent call last)",
      "\u001b[0;32m<ipython-input-3-3056cf41b5c7>\u001b[0m in \u001b[0;36m<module>\u001b[0;34m\u001b[0m\n\u001b[1;32m      2\u001b[0m \u001b[0mdf_close\u001b[0m \u001b[0;34m=\u001b[0m \u001b[0mdf_sp\u001b[0m\u001b[0;34m.\u001b[0m\u001b[0mset_index\u001b[0m\u001b[0;34m(\u001b[0m\u001b[0;34m'Date'\u001b[0m\u001b[0;34m)\u001b[0m\u001b[0;34m[\u001b[0m\u001b[0;34m'Close'\u001b[0m\u001b[0;34m]\u001b[0m\u001b[0;34m\u001b[0m\u001b[0;34m\u001b[0m\u001b[0m\n\u001b[1;32m      3\u001b[0m \u001b[0mdf_close\u001b[0m\u001b[0;34m.\u001b[0m\u001b[0mindex\u001b[0m \u001b[0;34m=\u001b[0m \u001b[0mpd\u001b[0m\u001b[0;34m.\u001b[0m\u001b[0mto_datetime\u001b[0m\u001b[0;34m(\u001b[0m\u001b[0mdf_close\u001b[0m\u001b[0;34m.\u001b[0m\u001b[0mindex\u001b[0m\u001b[0;34m)\u001b[0m\u001b[0;34m\u001b[0m\u001b[0;34m\u001b[0m\u001b[0m\n\u001b[0;32m----> 4\u001b[0;31m \u001b[0mtime_series_preparation\u001b[0m \u001b[0;34m=\u001b[0m \u001b[0mTimeSeriesPreparation\u001b[0m\u001b[0;34m(\u001b[0m\u001b[0;34m)\u001b[0m\u001b[0;34m\u001b[0m\u001b[0;34m\u001b[0m\u001b[0m\n\u001b[0m\u001b[1;32m      5\u001b[0m \u001b[0mperiod_index_time_series\u001b[0m \u001b[0;34m=\u001b[0m \u001b[0mtime_series_preparation\u001b[0m\u001b[0;34m.\u001b[0m\u001b[0mtransform\u001b[0m\u001b[0;34m(\u001b[0m\u001b[0mdf_close\u001b[0m\u001b[0;34m)\u001b[0m\u001b[0;34m\u001b[0m\u001b[0;34m\u001b[0m\u001b[0m\n\u001b[1;32m      6\u001b[0m \u001b[0mperiod_index_time_series\u001b[0m\u001b[0;34m.\u001b[0m\u001b[0mplot\u001b[0m\u001b[0;34m(\u001b[0m\u001b[0mfigsize\u001b[0m\u001b[0;34m=\u001b[0m\u001b[0;34m(\u001b[0m\u001b[0;36m20\u001b[0m\u001b[0;34m,\u001b[0m \u001b[0;36m5\u001b[0m\u001b[0;34m)\u001b[0m\u001b[0;34m)\u001b[0m\u001b[0;34m\u001b[0m\u001b[0;34m\u001b[0m\u001b[0m\n",
      "\u001b[0;31mNameError\u001b[0m: name 'TimeSeriesPreparation' is not defined"
     ]
    }
   ],
   "source": [
    "df_sp = pd.read_csv('data/^GSPC.csv')\n",
    "df_close = df_sp.set_index('Date')['Close']\n",
    "df_close.index = pd.to_datetime(df_close.index)\n",
    "time_series_preparation = TimeSeriesPreparation()\n",
    "period_index_time_series = time_series_preparation.transform(df_close)\n",
    "period_index_time_series.plot(figsize=(20, 5))\n",
    "plt.show()"
   ]
  },
  {
   "cell_type": "code",
   "execution_count": 121,
   "metadata": {
    "ExecuteTime": {
     "end_time": "2020-03-23T19:09:06.449468Z",
     "start_time": "2020-03-23T19:09:06.442468Z"
    }
   },
   "outputs": [
    {
     "data": {
      "text/plain": [
       "array([ 1.        ,  0.25      , -0.38666667, -0.31270903])"
      ]
     },
     "execution_count": 121,
     "metadata": {},
     "output_type": "execute_result"
    }
   ],
   "source": [
    "pacf(np.array([1, 2, 3, 4]), 3, method='ywm')"
   ]
  },
  {
   "cell_type": "code",
   "execution_count": 61,
   "metadata": {
    "ExecuteTime": {
     "end_time": "2020-03-20T18:15:33.892969Z",
     "start_time": "2020-03-20T18:15:33.842660Z"
    }
   },
   "outputs": [
    {
     "data": {
      "text/plain": [
       "(array([ 1.        ,  0.45454545, -0.86153846, -1.        ]),\n",
       " array([1.25      , 0.72727273, 0.27692308, 0.        ]))"
      ]
     },
     "execution_count": 61,
     "metadata": {},
     "output_type": "execute_result"
    }
   ],
   "source": [
    "pacf_burg(np.array([1, 2, 3, 4]), 3)"
   ]
  },
  {
   "cell_type": "code",
   "execution_count": 110,
   "metadata": {
    "ExecuteTime": {
     "end_time": "2020-03-23T13:57:13.351954Z",
     "start_time": "2020-03-23T13:57:13.343250Z"
    }
   },
   "outputs": [
    {
     "data": {
      "text/plain": [
       "array([ 1.        ,  0.99678578,  0.21585029, -0.07415431, -0.14261948,\n",
       "        0.0763923 , -0.02748249,  0.04997383, -0.17551864,  0.1915448 ,\n",
       "       -0.16076186])"
      ]
     },
     "execution_count": 110,
     "metadata": {},
     "output_type": "execute_result"
    }
   ],
   "source": [
    "pacf(df_close, 10, method='ols-inefficient')"
   ]
  },
  {
   "cell_type": "code",
   "execution_count": 123,
   "metadata": {
    "ExecuteTime": {
     "end_time": "2020-03-23T19:10:04.444907Z",
     "start_time": "2020-03-23T19:10:04.432567Z"
    }
   },
   "outputs": [
    {
     "data": {
      "text/plain": [
       "Date\n",
       "2015-03-18    2099.500000\n",
       "2015-03-19    2089.270020\n",
       "2015-03-20    2108.100098\n",
       "2015-03-23    2104.419922\n",
       "2015-03-24    2091.500000\n",
       "2015-03-25    2061.050049\n",
       "2015-03-26    2056.149902\n",
       "2015-03-27    2061.020020\n",
       "2015-03-30    2086.239990\n",
       "2015-03-31    2067.889893\n",
       "2015-04-01    2059.689941\n",
       "2015-04-02    2066.959961\n",
       "2015-04-06    2080.620117\n",
       "2015-04-07    2076.330078\n",
       "2015-04-08    2081.899902\n",
       "Name: Close, dtype: float64"
      ]
     },
     "execution_count": 123,
     "metadata": {},
     "output_type": "execute_result"
    }
   ],
   "source": [
    "df_close.iloc[:15]"
   ]
  },
  {
   "cell_type": "code",
   "execution_count": 125,
   "metadata": {
    "ExecuteTime": {
     "end_time": "2020-03-23T19:10:58.635648Z",
     "start_time": "2020-03-23T19:10:58.625513Z"
    }
   },
   "outputs": [
    {
     "data": {
      "text/plain": [
       "array([ 1.        ,  0.58605525, -0.20541852, -0.15089993,  0.21536218,\n",
       "       -0.30921943, -0.01974469, -0.20007992,  0.07772186, -0.19612716,\n",
       "       -0.03519717,  0.13384736, -0.20629998,  0.00515652, -0.02735731,\n",
       "       -0.0643404 ])"
      ]
     },
     "execution_count": 125,
     "metadata": {},
     "output_type": "execute_result"
    }
   ],
   "source": [
    "pacf(df_close.iloc[:15], 15, method='ywm')"
   ]
  },
  {
   "cell_type": "code",
   "execution_count": 126,
   "metadata": {
    "ExecuteTime": {
     "end_time": "2020-03-23T19:11:07.147099Z",
     "start_time": "2020-03-23T19:11:07.133394Z"
    }
   },
   "outputs": [
    {
     "data": {
      "text/plain": [
       "array([ 1.        ,  0.58605525,  0.20859544, -0.06791727, -0.02257912,\n",
       "       -0.12753209, -0.17429864, -0.31422696, -0.2072008 , -0.20595298,\n",
       "       -0.13053124])"
      ]
     },
     "execution_count": 126,
     "metadata": {},
     "output_type": "execute_result"
    }
   ],
   "source": [
    "def autocorr(x, max_lags=None):\n",
    "    n = len(x)\n",
    "    if max_lags is None or max_lags > n:\n",
    "        max_lags = n    \n",
    "    x = (x - np.mean(x)) / (np.std(x) * np.sqrt(n))\n",
    "    result = np.correlate(x, x, mode='full')[-n:-n + max_lags + 1]\n",
    "\n",
    "    return result\n",
    "\n",
    "autocorr(df_close.iloc[:15], max_lags=10)"
   ]
  },
  {
   "cell_type": "code",
   "execution_count": 132,
   "metadata": {
    "ExecuteTime": {
     "end_time": "2020-03-23T19:34:24.585029Z",
     "start_time": "2020-03-23T19:34:24.573873Z"
    }
   },
   "outputs": [
    {
     "data": {
      "text/plain": [
       "array([ 1.        ,  0.62791634, -0.25356867, -0.20313208,  0.33449225,\n",
       "       -0.56728519,  0.04461552, -0.57387043,  0.56176693, -2.43215176,\n",
       "       -1.11112319,  1.31361561,  3.46948907, -1.17651181, -0.37412882,\n",
       "               nan])"
      ]
     },
     "execution_count": 132,
     "metadata": {},
     "output_type": "execute_result"
    }
   ],
   "source": [
    "pacf(df_close.iloc[:15], nlags=15)"
   ]
  },
  {
   "cell_type": "code",
   "execution_count": 96,
   "metadata": {
    "ExecuteTime": {
     "end_time": "2020-03-23T13:11:49.723008Z",
     "start_time": "2020-03-23T13:11:49.715261Z"
    }
   },
   "outputs": [
    {
     "data": {
      "text/plain": [
       "array([ 1.        ,  0.74853224,  0.50835712,  0.39037324,  0.3113311 ,\n",
       "        0.17684978,  0.0815524 , -0.03562858, -0.08027753, -0.11105834,\n",
       "       -0.1508139 ])"
      ]
     },
     "execution_count": 96,
     "metadata": {},
     "output_type": "execute_result"
    }
   ],
   "source": [
    "acf(df_close.iloc[:100], nlags=10)"
   ]
  },
  {
   "cell_type": "code",
   "execution_count": 94,
   "metadata": {
    "ExecuteTime": {
     "end_time": "2020-03-23T13:11:14.627674Z",
     "start_time": "2020-03-23T13:11:14.619453Z"
    }
   },
   "outputs": [
    {
     "data": {
      "text/plain": [
       "array([nan, nan, nan, nan])"
      ]
     },
     "execution_count": 94,
     "metadata": {},
     "output_type": "execute_result"
    }
   ],
   "source": [
    "acf(np.array([1, 1, 1, 1]), nlags=4)"
   ]
  },
  {
   "cell_type": "code",
   "execution_count": 39,
   "metadata": {
    "ExecuteTime": {
     "end_time": "2020-03-20T16:41:15.309269Z",
     "start_time": "2020-03-20T16:41:14.861980Z"
    }
   },
   "outputs": [],
   "source": [
    "df_sp = pd.read_csv('data/^GSPC.csv')\n",
    "df_close = df_sp.set_index('Date')['Close']"
   ]
  },
  {
   "cell_type": "code",
   "execution_count": 59,
   "metadata": {
    "ExecuteTime": {
     "end_time": "2020-03-20T16:45:55.960454Z",
     "start_time": "2020-03-20T16:45:55.931758Z"
    }
   },
   "outputs": [],
   "source": [
    "a, b = pacf(np.squeeze(df_close.values), alpha=0.05)"
   ]
  },
  {
   "cell_type": "code",
   "execution_count": 60,
   "metadata": {
    "ExecuteTime": {
     "end_time": "2020-03-20T16:45:56.702648Z",
     "start_time": "2020-03-20T16:45:56.695649Z"
    }
   },
   "outputs": [
    {
     "data": {
      "text/plain": [
       "0.05523765407649571"
      ]
     },
     "execution_count": 60,
     "metadata": {},
     "output_type": "execute_result"
    }
   ],
   "source": [
    "(b[3][1] - b[3][0])/2"
   ]
  },
  {
   "cell_type": "code",
   "execution_count": null,
   "metadata": {},
   "outputs": [],
   "source": []
  }
 ],
 "metadata": {
  "kernelspec": {
   "display_name": "Python 3",
   "language": "python",
   "name": "python3"
  },
  "language_info": {
   "codemirror_mode": {
    "name": "ipython",
    "version": 3
   },
   "file_extension": ".py",
   "mimetype": "text/x-python",
   "name": "python",
   "nbconvert_exporter": "python",
   "pygments_lexer": "ipython3",
   "version": "3.7.1"
  }
 },
 "nbformat": 4,
 "nbformat_minor": 2
}
